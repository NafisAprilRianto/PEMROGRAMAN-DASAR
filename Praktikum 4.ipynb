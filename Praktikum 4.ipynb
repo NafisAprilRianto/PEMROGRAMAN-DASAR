{
  "nbformat": 4,
  "nbformat_minor": 0,
  "metadata": {
    "colab": {
      "provenance": [],
      "authorship_tag": "ABX9TyMqas5IEsxjA+2UboFt8I87",
      "include_colab_link": true
    },
    "kernelspec": {
      "name": "python3",
      "display_name": "Python 3"
    },
    "language_info": {
      "name": "python"
    }
  },
  "cells": [
    {
      "cell_type": "markdown",
      "metadata": {
        "id": "view-in-github",
        "colab_type": "text"
      },
      "source": [
        "<a href=\"https://colab.research.google.com/github/NafisAprilRianto/PEMROGRAMAN-DASAR/blob/main/Praktikum%204.ipynb\" target=\"_parent\"><img src=\"https://colab.research.google.com/assets/colab-badge.svg\" alt=\"Open In Colab\"/></a>"
      ]
    },
    {
      "cell_type": "code",
      "execution_count": 1,
      "metadata": {
        "colab": {
          "base_uri": "https://localhost:8080/"
        },
        "id": "SUbi1Q2XDvqO",
        "outputId": "450f5967-42c6-4645-d891-11d02f512bb0"
      },
      "outputs": [
        {
          "output_type": "stream",
          "name": "stdout",
          "text": [
            "pengunjung adalah orang dewasa.\n"
          ]
        }
      ],
      "source": [
        "umur: int = 20\n",
        "if umur > 17:\n",
        "  print(\"pengunjung adalah orang dewasa.\")"
      ]
    },
    {
      "cell_type": "code",
      "source": [
        "username = input(\"Masukkan usernme: \")\n",
        "password = input(\"Masukkan password: \")\n",
        "\n",
        "if username == \"admin\" and password == \"1234\":\n",
        "  print(\"Login berhasil\")\n",
        "else:\n",
        "        print(\"Login gagal\")"
      ],
      "metadata": {
        "colab": {
          "base_uri": "https://localhost:8080/"
        },
        "id": "CEj9xv8SG32a",
        "outputId": "b1a7766c-e682-463f-b8f8-4bbdd50f0dc6"
      },
      "execution_count": 3,
      "outputs": [
        {
          "output_type": "stream",
          "name": "stdout",
          "text": [
            "Masukkan usernme: admin\n",
            "Masukkan password: 1234\n",
            "Login berhasil\n"
          ]
        }
      ]
    },
    {
      "cell_type": "code",
      "source": [
        "total_belanja = input(\"total belanja: Rp \")\n",
        "bayar = int(total_belanja)\n",
        "if int(total_belanja) > 100000:\n",
        " print(\"Selamat karena belanja > Rp. 100,000 anda dapat voucher makan\")\n",
        " print(\"dan diskon 5%\")\n",
        "diskon = int(total_belanja) * 5/100 #5%\n",
        "bayar = int(total_belanja) - diskon\n",
        "print(\"Total yang harus dibayar: Rp %s\" % bayar)\n",
        "print(\"Terimakasih sudah belanja ditoko kami\")\n",
        "print(\"Kami tunggu kedatangan selanjutnya\")"
      ],
      "metadata": {
        "colab": {
          "base_uri": "https://localhost:8080/"
        },
        "id": "y3C6L6GMHdgH",
        "outputId": "d18df8f0-3f10-452c-cb49-1338998f99dd"
      },
      "execution_count": 5,
      "outputs": [
        {
          "output_type": "stream",
          "name": "stdout",
          "text": [
            "total belanja: Rp 150000\n",
            "Selamat karena belanja > Rp. 100,000 anda dapat voucher makan\n",
            "dan diskon 5%\n",
            "Total yang harus dibayar: Rp 142500.0\n",
            "Terimakasih sudah belanja ditoko kami\n",
            "Kami tunggu kedatangan selanjutnya\n"
          ]
        }
      ]
    },
    {
      "cell_type": "code",
      "source": [
        "ada_notifikasi_baru: bool = True\n",
        "if ada_notifikasi_baru:\n",
        "  print(\"Anda memiliki pesan baru!\")"
      ],
      "metadata": {
        "colab": {
          "base_uri": "https://localhost:8080/"
        },
        "id": "2gV-psO_Hnly",
        "outputId": "22764bdb-3ccc-4f32-a687-54cf8aa3ee50"
      },
      "execution_count": 6,
      "outputs": [
        {
          "output_type": "stream",
          "name": "stdout",
          "text": [
            "Anda memiliki pesan baru!\n"
          ]
        }
      ]
    },
    {
      "cell_type": "code",
      "source": [
        "umur = input(\"Berapa umur kamu: \")\n",
        "if int(umur) >= 18:\n",
        "  print(\"Kamu boleh membuat SIM\")\n",
        "else:\n",
        "  print(\"kamu belum boleh membuat sim\")"
      ],
      "metadata": {
        "colab": {
          "base_uri": "https://localhost:8080/"
        },
        "id": "4Xbtr11dH3gO",
        "outputId": "41c98aef-8e71-4eeb-8dac-a0c0f7448cbf"
      },
      "execution_count": 7,
      "outputs": [
        {
          "output_type": "stream",
          "name": "stdout",
          "text": [
            "Berapa umur kamu: 20\n",
            "Kamu boleh membuat SIM\n"
          ]
        }
      ]
    },
    {
      "cell_type": "code",
      "source": [
        "total_belanja = 30000\n",
        "if total_belanja > 200000:\n",
        "  diskon = total_belanja * 0.10\n",
        "  total_bayar = total_belanja - diskon\n",
        "  print(f\"Anda mendapatkan diskon! Total bayar : Rp {total_bayar}\")\n",
        "else:\n",
        "    print(F\"Total bayar: Rp {total_belanja}\")"
      ],
      "metadata": {
        "colab": {
          "base_uri": "https://localhost:8080/"
        },
        "id": "G8eIid2pH63M",
        "outputId": "163abe8f-72f0-4f57-8d16-e8b4b44d8791"
      },
      "execution_count": 8,
      "outputs": [
        {
          "output_type": "stream",
          "name": "stdout",
          "text": [
            "Total bayar: Rp 30000\n"
          ]
        }
      ]
    },
    {
      "cell_type": "code",
      "source": [
        "angka = int(input(\"Masukkan bilangan: \"))\n",
        "if angka %2 == 0:\n",
        "  print(\"Bilangan genap\")\n",
        "else:\n",
        "  print(\"Bilangan ganjil\")"
      ],
      "metadata": {
        "colab": {
          "base_uri": "https://localhost:8080/"
        },
        "id": "sPWxPupsIAP5",
        "outputId": "38b5a4e5-8613-45ba-8478-31de4e2181b7"
      },
      "execution_count": 9,
      "outputs": [
        {
          "output_type": "stream",
          "name": "stdout",
          "text": [
            "Masukkan bilangan: 45\n",
            "Bilangan ganjil\n"
          ]
        }
      ]
    },
    {
      "cell_type": "code",
      "source": [
        "nilai = 80\n",
        "if nilai >= 85:\n",
        "  print(\"Luar biasa nilai A\")\n",
        "elif nilai >= 70:\n",
        "  print(\"Bagus! Nilai B\")\n",
        "elif nilai >= 60:\n",
        "  print(\"Cukup, Nilai c\")\n",
        "else:\n",
        "  print(\"Nilai kurang, Perlu belajar lebih giat. \")"
      ],
      "metadata": {
        "colab": {
          "base_uri": "https://localhost:8080/"
        },
        "id": "P-6n4ZzhIFKL",
        "outputId": "c6325699-0545-4e14-90c0-5e602dd83497"
      },
      "execution_count": 10,
      "outputs": [
        {
          "output_type": "stream",
          "name": "stdout",
          "text": [
            "Bagus! Nilai B\n"
          ]
        }
      ]
    },
    {
      "cell_type": "code",
      "source": [
        "hari: str = \"sabtu\"\n",
        "\n",
        "if hari == \"sabtu\" or hari == \"Minggu\":\n",
        "  diskon: float = 0.20 # Diskon 20%\n",
        "  print(F\"Selamat! Anda mendapatkan diskon akhir pekan sebesar {diskon*100}%.\")\n",
        "elif hari == \"jumat\":\n",
        "  diskon: float = 0.15 # Diskon 15%\n",
        "  print(f\"Diskon spesial Jumat! Anda mendapat potongan {diskon*100}%.\")\n",
        "else:\n",
        "  diskon: float - 0.05 # Diskon 5%\n",
        "  print(f\"Anda mendapat diskon hari biasa sebesar {diskon*100}%.\")"
      ],
      "metadata": {
        "colab": {
          "base_uri": "https://localhost:8080/"
        },
        "id": "fSk0Pl-GINK_",
        "outputId": "52f4b297-4f4f-44a5-af8b-7c3b41f17032"
      },
      "execution_count": 11,
      "outputs": [
        {
          "output_type": "stream",
          "name": "stdout",
          "text": [
            "Selamat! Anda mendapatkan diskon akhir pekan sebesar 20.0%.\n"
          ]
        }
      ]
    },
    {
      "cell_type": "code",
      "source": [
        "rupiah = int(input(\"Masukkan jumlah uang (Rp): \"))\n",
        "print(\"1. Dollar (USD)\")\n",
        "print(\"2. Euro (EUR)\")\n",
        "print(\"3. Yen (JPY)\")\n",
        "pilih = int(input(\"Pilih konversi (1/2/3): \"))\n",
        "\n",
        "if pilih == 1:\n",
        "  print(\"Dalam Dollar:\", rupiah / 15000)\n",
        "elif pilih == 2:\n",
        "  print(\"Dalam Euro:\", rupiah / 16000)\n",
        "elif pilih == 3:\n",
        "  print(\"Dalam Yen:\", rupiah / 120)\n",
        "else:\n",
        "  print(\"pilihan tidak valid\")"
      ],
      "metadata": {
        "colab": {
          "base_uri": "https://localhost:8080/"
        },
        "id": "UQC_0RmrIQYx",
        "outputId": "feb60df7-eb1d-4075-eaa3-be23c465dd9a"
      },
      "execution_count": 12,
      "outputs": [
        {
          "output_type": "stream",
          "name": "stdout",
          "text": [
            "Masukkan jumlah uang (Rp): 100000\n",
            "1. Dollar (USD)\n",
            "2. Euro (EUR)\n",
            "3. Yen (JPY)\n",
            "Pilih konversi (1/2/3): 1\n",
            "Dalam Dollar: 6.666666666666667\n"
          ]
        }
      ]
    }
  ]
}