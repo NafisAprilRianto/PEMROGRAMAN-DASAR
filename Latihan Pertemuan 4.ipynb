{
  "nbformat": 4,
  "nbformat_minor": 0,
  "metadata": {
    "colab": {
      "provenance": [],
      "authorship_tag": "ABX9TyPn/MKu9DOkJWPwK2y796fc",
      "include_colab_link": true
    },
    "kernelspec": {
      "name": "python3",
      "display_name": "Python 3"
    },
    "language_info": {
      "name": "python"
    }
  },
  "cells": [
    {
      "cell_type": "markdown",
      "metadata": {
        "id": "view-in-github",
        "colab_type": "text"
      },
      "source": [
        "<a href=\"https://colab.research.google.com/github/NafisAprilRianto/PEMROGRAMAN-DASAR/blob/main/Latihan%20Pertemuan%204.ipynb\" target=\"_parent\"><img src=\"https://colab.research.google.com/assets/colab-badge.svg\" alt=\"Open In Colab\"/></a>"
      ]
    },
    {
      "cell_type": "code",
      "execution_count": 1,
      "metadata": {
        "colab": {
          "base_uri": "https://localhost:8080/"
        },
        "id": "jvCzuEfhJfKY",
        "outputId": "f6fa0165-94fe-4cb8-b4c6-4cbe57a7e94f"
      },
      "outputs": [
        {
          "output_type": "stream",
          "name": "stdout",
          "text": [
            "Masukkan sebuah angka: 13\n",
            "Bukan kelipatan 5\n"
          ]
        }
      ],
      "source": [
        "angka = int(input(\"Masukkan sebuah angka: \"))\n",
        "\n",
        "if angka % 5 == 0:\n",
        "    print(\"Kelipatan 5\")\n",
        "else:\n",
        "    print(\"Bukan kelipatan 5\")"
      ]
    },
    {
      "cell_type": "code",
      "source": [
        "tahun = int(input(\"Masukkan tahun: \"))\n",
        "\n",
        "if tahun % 400 == 0:\n",
        "    print(tahun, \"adalah tahun kabisat\")\n",
        "elif tahun % 100 == 0:\n",
        "    print(tahun, \"bukan tahun kabisat\")\n",
        "elif tahun % 4 == 0:\n",
        "    print(tahun, \"adalah tahun kabisat\")\n",
        "else:\n",
        "    print(tahun, \"bukan tahun kabisat\")"
      ],
      "metadata": {
        "colab": {
          "base_uri": "https://localhost:8080/"
        },
        "id": "XpjBQKL6Jsce",
        "outputId": "005ca0e8-e007-4e4d-8727-6204f13787f3"
      },
      "execution_count": 2,
      "outputs": [
        {
          "output_type": "stream",
          "name": "stdout",
          "text": [
            "Masukkan tahun: 2023\n",
            "2023 bukan tahun kabisat\n"
          ]
        }
      ]
    },
    {
      "cell_type": "code",
      "source": [
        "\n",
        "angka1 = int(input(\"Masukkan angka pertama: \"))\n",
        "angka2 = int(input(\"Masukkan angka kedua: \"))\n",
        "\n",
        "print(\"Pilih operasi: 1. Tambah  2. Kurang  3. Kali  4. Bagi\")\n",
        "pilihan = int(input(\"Pilihan Anda: \"))\n",
        "\n",
        "if pilihan == 1:\n",
        "    hasil = angka1 + angka2\n",
        "    print(\"Hasil penjumlahan =\", hasil)\n",
        "elif pilihan == 2:\n",
        "    hasil = angka1 - angka2\n",
        "    print(\"Hasil pengurangan =\", hasil)\n",
        "elif pilihan == 3:\n",
        "    hasil = angka1 * angka2\n",
        "    print(\"Hasil perkalian =\", hasil)\n",
        "elif pilihan == 4:\n",
        "    if angka2 != 0:\n",
        "        hasil = angka1 / angka2\n",
        "        print(\"Hasil pembagian =\", hasil)\n",
        "    else:\n",
        "        print(\"Tidak bisa dibagi 0\")\n",
        "else:\n",
        "    print(\"Pilihan salah\")"
      ],
      "metadata": {
        "colab": {
          "base_uri": "https://localhost:8080/"
        },
        "id": "4Zo7DEsqJ1HC",
        "outputId": "df6d99af-d108-4d2c-f6d6-d90869290e1a"
      },
      "execution_count": 3,
      "outputs": [
        {
          "output_type": "stream",
          "name": "stdout",
          "text": [
            "Masukkan angka pertama: 25\n",
            "Masukkan angka kedua: 5\n",
            "Pilih operasi: 1. Tambah  2. Kurang  3. Kali  4. Bagi\n",
            "Pilihan Anda: 3\n",
            "Hasil perkalian = 125\n"
          ]
        }
      ]
    },
    {
      "cell_type": "code",
      "source": [
        "bulan = int(input(\"Masukkan angka bulan (1-12): \"))\n",
        "\n",
        "daftar_bulan = [\n",
        "    \"Januari\", \"Februari\", \"Maret\", \"April\",\n",
        "    \"Mei\", \"Juni\", \"Juli\", \"Agustus\",\n",
        "    \"September\", \"Oktober\", \"November\", \"Desember\"\n",
        "    ]\n",
        "\n",
        "if 1 <= bulan <= 12:\n",
        "    print(\"Bulan:\", daftar_bulan[bulan-1])\n",
        "else:\n",
        "    print(\"Input salah\")"
      ],
      "metadata": {
        "colab": {
          "base_uri": "https://localhost:8080/"
        },
        "id": "_9IyLnJVKEoT",
        "outputId": "9eaff02c-0af5-4b7a-f9d6-f85fddd354cf"
      },
      "execution_count": 4,
      "outputs": [
        {
          "output_type": "stream",
          "name": "stdout",
          "text": [
            "Masukkan angka bulan (1-12): 4\n",
            "Bulan: April\n"
          ]
        }
      ]
    },
    {
      "cell_type": "code",
      "source": [
        "jam = int(input(\"Masukkan jam (0-23): \"))\n",
        "\n",
        "if 0 <= jam <= 11:\n",
        "    print(\"Selamat Pagi\")\n",
        "elif 12 <= jam <= 15:\n",
        "    print(\"Selamat Siang\")\n",
        "elif 16 <= jam <= 18:\n",
        "    print(\"Selamat Sore\")\n",
        "elif 19 <= jam <= 23:\n",
        "    print(\"Selamat Malam\")\n",
        "else:\n",
        "    print(\"Input salah\")\n"
      ],
      "metadata": {
        "colab": {
          "base_uri": "https://localhost:8080/"
        },
        "id": "ESLpmd5hKLBS",
        "outputId": "536c04d7-526c-431e-d79d-728d860ea36a"
      },
      "execution_count": 5,
      "outputs": [
        {
          "output_type": "stream",
          "name": "stdout",
          "text": [
            "Masukkan jam (0-23): 20\n",
            "Selamat Malam\n"
          ]
        }
      ]
    }
  ]
}