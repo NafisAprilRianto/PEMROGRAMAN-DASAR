{
  "nbformat": 4,
  "nbformat_minor": 0,
  "metadata": {
    "colab": {
      "provenance": [],
      "authorship_tag": "ABX9TyMvAXQgzcOM7A2m7A42+8Ia",
      "include_colab_link": true
    },
    "kernelspec": {
      "name": "python3",
      "display_name": "Python 3"
    },
    "language_info": {
      "name": "python"
    }
  },
  "cells": [
    {
      "cell_type": "markdown",
      "metadata": {
        "id": "view-in-github",
        "colab_type": "text"
      },
      "source": [
        "<a href=\"https://colab.research.google.com/github/NafisAprilRianto/PEMROGRAMAN-DASAR/blob/main/Tugas%20Pertemuan%202.ipynb\" target=\"_parent\"><img src=\"https://colab.research.google.com/assets/colab-badge.svg\" alt=\"Open In Colab\"/></a>"
      ]
    },
    {
      "cell_type": "code",
      "execution_count": 1,
      "metadata": {
        "colab": {
          "base_uri": "https://localhost:8080/"
        },
        "id": "xWqcNeS3FstG",
        "outputId": "949eef1c-f443-43fe-9779-5b9fffc4f09b"
      },
      "outputs": [
        {
          "output_type": "stream",
          "name": "stdout",
          "text": [
            "<class 'str'>\n",
            "<class 'str'>\n",
            "<class 'int'>\n",
            "<class 'bool'>\n"
          ]
        }
      ],
      "source": [
        "FirstName = 'Nafis'\n",
        "LastName = 'April'\n",
        "age = 20\n",
        "isMarried = False\n",
        "\n",
        "print(type(FirstName))\n",
        "print(type(LastName))\n",
        "print(type(age))\n",
        "print(type(isMarried))"
      ]
    },
    {
      "cell_type": "code",
      "source": [
        "# Buatlah Variabel Dictionary dengan nama \"data_diri\"\n",
        "\n",
        "data_diri = { 'firstName': 'Nafis', 'LastName': 'April', 'age': 20, 'isMarried': False}\n",
        "\n",
        "print(type(data_diri))"
      ],
      "metadata": {
        "colab": {
          "base_uri": "https://localhost:8080/"
        },
        "id": "ylat4bZEF6tE",
        "outputId": "d91f13d2-a654-4db1-e40a-5bf597dcbedd"
      },
      "execution_count": 6,
      "outputs": [
        {
          "output_type": "stream",
          "name": "stdout",
          "text": [
            "<class 'dict'>\n"
          ]
        }
      ]
    },
    {
      "cell_type": "code",
      "source": [
        "# Buatlah Variabel \"Inspeksi\" bertipe data list untuk menyimpan daftar Inspeksi\n",
        "\n",
        "Inspeksi = [\"pemahaman terhadap rencana dan desain\",\n",
        "            \"ketersediaan bahan dan peralatan\",\n",
        "            \"pengawasan pekerjaan\",\n",
        "            \"kualitas konstruksi\",\n",
        "            \"keselamatan kerja\",\n",
        "            \"koordinasi dengan pemilik proyek\"]\n",
        "\n",
        "for i, item in enumerate(Inspeksi, start=1): print(f\"{i}. {item}\")"
      ],
      "metadata": {
        "colab": {
          "base_uri": "https://localhost:8080/"
        },
        "id": "lbdBavJfGFT-",
        "outputId": "16ed95c4-5061-4309-90fc-3ab2e846ee12"
      },
      "execution_count": 3,
      "outputs": [
        {
          "output_type": "stream",
          "name": "stdout",
          "text": [
            "1. pemahaman terhadap rencana dan desain\n",
            "2. ketersediaan bahan dan peralatan\n",
            "3. pengawasan pekerjaan\n",
            "4. kualitas konstruksi\n",
            "5. keselamatan kerja\n",
            "6. koordinasi dengan pemilik proyek\n"
          ]
        }
      ]
    },
    {
      "cell_type": "code",
      "source": [
        "# Buatlah variabel startTime sbg waktu datang dan variabel endTime sbg waktu pulang bertipe data \"dictionary\"\n",
        "\n",
        "startTime = {\"HH\": 9, \"mm\": 23, \"ss\": 57}\n",
        "endTime = {\"HH\": 15, \"mm\": 25, \"ss\": 43}\n",
        "\n",
        "print(\"Waktu datang:\", startTime)\n",
        "print(\"Waktu pulang:\", endTime)"
      ],
      "metadata": {
        "colab": {
          "base_uri": "https://localhost:8080/"
        },
        "id": "biaTSNobGNCs",
        "outputId": "40735c5a-7e73-46ca-c6c8-c8a75f20fca2"
      },
      "execution_count": 4,
      "outputs": [
        {
          "output_type": "stream",
          "name": "stdout",
          "text": [
            "Waktu datang: {'HH': 9, 'mm': 23, 'ss': 57}\n",
            "Waktu pulang: {'HH': 15, 'mm': 25, 'ss': 43}\n"
          ]
        }
      ]
    },
    {
      "cell_type": "code",
      "source": [
        "# STUDI KASUS : PENGGABUNGAN DAN ANALISIS KATALOG PRODUK\n",
        "\n",
        "katalog_A = {\"Laptop\", \"Printer\", \"Mouse\", \"Keyboard\"}\n",
        "katalog_B = {\"Monitor\", \"Mouse\", \"Speaker\", \"Printer\"}\n",
        "produk_diskon = (\"Mouse\", \"Keyboard\", \"Speaker\")\n",
        "katalog_lengkap = katalog_A.union(katalog_B)\n",
        "produk_promo_aktif = katalog_lengkap.intersection(set(produk_diskon))\n",
        "\n",
        "print(\"Katalog Lengkap :\", katalog_lengkap)\n",
        "print(\"Produk Promo Aktif :\", produk_promo_aktif)"
      ],
      "metadata": {
        "colab": {
          "base_uri": "https://localhost:8080/"
        },
        "id": "J4sMF-NmGTTk",
        "outputId": "7ee63cd3-4a0b-49b5-dd68-7f3edda9afc3"
      },
      "execution_count": 5,
      "outputs": [
        {
          "output_type": "stream",
          "name": "stdout",
          "text": [
            "Katalog Lengkap : {'Mouse', 'Laptop', 'Speaker', 'Keyboard', 'Printer', 'Monitor'}\n",
            "Produk Promo Aktif : {'Speaker', 'Mouse', 'Keyboard'}\n"
          ]
        }
      ]
    },
    {
      "cell_type": "code",
      "source": [],
      "metadata": {
        "id": "_1YU-bDjGXdl"
      },
      "execution_count": null,
      "outputs": []
    }
  ]
}