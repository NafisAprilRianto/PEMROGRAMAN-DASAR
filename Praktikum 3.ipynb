{
  "nbformat": 4,
  "nbformat_minor": 0,
  "metadata": {
    "colab": {
      "provenance": [],
      "authorship_tag": "ABX9TyOopZCRrF3suo3Vb0KOKFbI",
      "include_colab_link": true
    },
    "kernelspec": {
      "name": "python3",
      "display_name": "Python 3"
    },
    "language_info": {
      "name": "python"
    }
  },
  "cells": [
    {
      "cell_type": "markdown",
      "metadata": {
        "id": "view-in-github",
        "colab_type": "text"
      },
      "source": [
        "<a href=\"https://colab.research.google.com/github/NafisAprilRianto/PEMROGRAMAN-DASAR/blob/main/Praktikum%203.ipynb\" target=\"_parent\"><img src=\"https://colab.research.google.com/assets/colab-badge.svg\" alt=\"Open In Colab\"/></a>"
      ]
    },
    {
      "cell_type": "code",
      "execution_count": 4,
      "metadata": {
        "colab": {
          "base_uri": "https://localhost:8080/"
        },
        "id": "vDYnpPbJJPCw",
        "outputId": "e67281ca-6bd2-4565-a34c-35c49dc0a104"
      },
      "outputs": [
        {
          "name": "stdout",
          "output_type": "stream",
          "text": [
            "berapa porsi makan yang anda beli?3\n",
            "siapa nama pelanggan?nafis\n",
            "berapa jarak dari rumah ke masjid?3.2\n"
          ]
        }
      ],
      "source": [
        "total = int (input(\"berapa porsi makan yang anda beli?\"))\n",
        "nama = str (input(\"siapa nama pelanggan?\"))\n",
        "jarak = float (input(\"berapa jarak dari rumah ke masjid?\"))"
      ]
    },
    {
      "cell_type": "code",
      "source": [
        "food = \"ayam bakar\"\n",
        "print(\"april tiap sekali seminggu makan\", food)\n",
        "print(\"april tiap sekali seminggu makan\"+ food)\n",
        "print(\"april tiap sekali seminggu makan %s\" % (food))"
      ],
      "metadata": {
        "colab": {
          "base_uri": "https://localhost:8080/"
        },
        "id": "zc2mMoOYLMgq",
        "outputId": "8c2eb0a9-a983-4155-c699-27838987a170"
      },
      "execution_count": 7,
      "outputs": [
        {
          "output_type": "stream",
          "name": "stdout",
          "text": [
            "april tiap sekali seminggu makan ayam bakar\n",
            "april tiap sekali seminggu makanayam bakar\n",
            "april tiap sekali seminggu makan ayam bakar\n"
          ]
        }
      ]
    },
    {
      "cell_type": "code",
      "source": [
        "bulan_lahir = 4\n",
        "berat = 70.2\n",
        "nama = \"april\"\n",
        "\n",
        "print(\"bulan kelahiran saya %d\" % ( bulan_lahir))\n",
        "print(\"berat badan saya sekarang %f\" % (berat))\n",
        "print(\"siapa saya %s\" % (nama))"
      ],
      "metadata": {
        "colab": {
          "base_uri": "https://localhost:8080/"
        },
        "id": "EdoPcfBQL_EP",
        "outputId": "05a7e317-b1ab-4374-ee1c-059556a33d86"
      },
      "execution_count": 9,
      "outputs": [
        {
          "output_type": "stream",
          "name": "stdout",
          "text": [
            "bulan kelahiran saya 4\n",
            "berat badan saya sekarang 70.200000\n",
            "siapa saya april\n"
          ]
        }
      ]
    },
    {
      "cell_type": "code",
      "source": [
        "a = 100\n",
        "b = 12\n",
        "\n",
        "print(\"perjumlahan:\", a + b)\n",
        "print(\"perjumlahan:\", a - b)\n",
        "print(\"perjumlahan:\", a * b)\n",
        "print(\"perjumlahan:\", a / b)"
      ],
      "metadata": {
        "id": "NiiyDBGZNTY_",
        "colab": {
          "base_uri": "https://localhost:8080/"
        },
        "outputId": "fc23b033-918e-4025-c847-7f4c8eecbcba"
      },
      "execution_count": 10,
      "outputs": [
        {
          "output_type": "stream",
          "name": "stdout",
          "text": [
            "perjumlahan: 112\n",
            "perjumlahan: 88\n",
            "perjumlahan: 1200\n",
            "perjumlahan: 8.333333333333334\n"
          ]
        }
      ]
    },
    {
      "cell_type": "code",
      "source": [
        "bilangan = 25\n",
        "hasil = (bilangan > 0) and (bilangan % 2 == 0)\n",
        "print(\"Genap dan positif?\", hasil)"
      ],
      "metadata": {
        "colab": {
          "base_uri": "https://localhost:8080/"
        },
        "id": "pjcg79gZivHo",
        "outputId": "5a9a2bea-a5bc-435a-c481-b6482dd3909a"
      },
      "execution_count": 11,
      "outputs": [
        {
          "output_type": "stream",
          "name": "stdout",
          "text": [
            "Genap dan positif? False\n"
          ]
        }
      ]
    },
    {
      "cell_type": "code",
      "source": [
        "harga_makan = int(input(\"berapa harga Nasi goreng per porsi\"))\n",
        "jumlah_makan = int(input(\"berapa nasi yang dibeli?\"))\n",
        "total_makan = harga_makan * jumlah_makan\n",
        "\n",
        "print(f\"Harga makan per kotak = {harga_makan}, totalnya adalah {total_makan}\")\n"
      ],
      "metadata": {
        "colab": {
          "base_uri": "https://localhost:8080/"
        },
        "id": "T5AcFPWTksDc",
        "outputId": "af51cfb0-0afd-4ece-e526-5b5290617f90"
      },
      "execution_count": 15,
      "outputs": [
        {
          "output_type": "stream",
          "name": "stdout",
          "text": [
            "berapa harga Nasi goreng per porsi15000\n",
            "berapa nasi yang dibeli?3\n",
            "Harga makan per kotak = 15000, totalnya adalah 45000\n"
          ]
        }
      ]
    },
    {
      "cell_type": "code",
      "source": [
        "total_detik = 3600\n",
        "jam = total_detik // 3600\n",
        "sisa_detik = total_detik % 3600\n",
        "menit = sisa_detik // 6\n",
        "detik = sisa_detik % 60\n",
        "\n",
        "print(f\"Hasil Konversi: {jam} Jam, (menit) Menit, (detik) Detik\")\n",
        "\n",
        "total_detik = int (input(\"total_detik\"))"
      ],
      "metadata": {
        "colab": {
          "base_uri": "https://localhost:8080/"
        },
        "id": "K00Oiht7k8z-",
        "outputId": "b71cf3e4-0507-4d68-8ed4-1dd9f90cc846"
      },
      "execution_count": 17,
      "outputs": [
        {
          "name": "stdout",
          "output_type": "stream",
          "text": [
            "Hasil Konversi: 1 Jam, (menit) Menit, (detik) Detik\n",
            "total_detik358200\n"
          ]
        }
      ]
    },
    {
      "cell_type": "code",
      "source": [
        "tugas = 90\n",
        "uts = 95\n",
        "uas = 98\n",
        "nilai_akhir = (0.3 * tugas) + (0.3 * uts) + (0.4 * uas)\n",
        "print(\"Nilai akhir =\", nilai_akhir)"
      ],
      "metadata": {
        "colab": {
          "base_uri": "https://localhost:8080/"
        },
        "id": "k7m8ObVjl2x3",
        "outputId": "656ea5db-ae0b-49c4-a52c-3bb441f19803"
      },
      "execution_count": 18,
      "outputs": [
        {
          "output_type": "stream",
          "name": "stdout",
          "text": [
            "Nilai akhir = 94.7\n"
          ]
        }
      ]
    },
    {
      "cell_type": "code",
      "source": [
        "nilai_mahasiswa = 95\n",
        "\n",
        "standar_kelulusan = 70\n",
        "\n",
        "apakah_lulus = nilai_mahasiswa >= standar_kelulusan\n",
        "\n",
        "perlu_remedial = nilai_mahasiswa < standar_kelulusan\n",
        "\n",
        "print(f\"Nilai Mahasiswa: {nilai_mahasiswa}\")\n",
        "\n",
        "print(f\"Standar Kelulusan: {standar_kelulusan}\")\n",
        "\n",
        "print(f\"Apakah Mahasiswa Lulus? {apakah_lulus}\")\n",
        "\n",
        "print(f\"Perlu Remedial? {perlu_remedial}\")\n",
        "\n",
        "nilai_mahasiswa = int (input(\"nilai_mahasiswa\"))\n",
        "standar_kelulusan = int (input(\"standar Kelulusan\"))"
      ],
      "metadata": {
        "colab": {
          "base_uri": "https://localhost:8080/"
        },
        "id": "mrMpoOfxmIsj",
        "outputId": "7cefebd0-803f-4840-df93-2dac0aef5e6b"
      },
      "execution_count": 19,
      "outputs": [
        {
          "name": "stdout",
          "output_type": "stream",
          "text": [
            "Nilai Mahasiswa: 95\n",
            "Standar Kelulusan: 70\n",
            "Apakah Mahasiswa Lulus? True\n",
            "Perlu Remedial? False\n",
            "nilai_mahasiswa95\n",
            "standar Kelulusan70\n"
          ]
        }
      ]
    },
    {
      "cell_type": "code",
      "source": [
        "belanja = 2000000\n",
        "diskon = (0, 0.1 * belanja)[belanja > 250000]\n",
        "total_harga = belanja - diskon\n",
        "print(\"Total harga setelah diskon =\", total_harga)"
      ],
      "metadata": {
        "colab": {
          "base_uri": "https://localhost:8080/"
        },
        "id": "hp0WJoT4mQYl",
        "outputId": "f2cd0ee7-a99e-4f89-82e2-01950522c688"
      },
      "execution_count": 20,
      "outputs": [
        {
          "output_type": "stream",
          "name": "stdout",
          "text": [
            "Total harga setelah diskon = 1800000.0\n"
          ]
        }
      ]
    },
    {
      "cell_type": "code",
      "source": [],
      "metadata": {
        "id": "zUo3xvIdmcHK"
      },
      "execution_count": null,
      "outputs": []
    }
  ]
}