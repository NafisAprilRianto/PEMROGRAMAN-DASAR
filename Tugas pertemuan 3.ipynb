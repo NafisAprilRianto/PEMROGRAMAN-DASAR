{
  "nbformat": 4,
  "nbformat_minor": 0,
  "metadata": {
    "colab": {
      "provenance": [],
      "authorship_tag": "ABX9TyN+V7OAKJf91bpSe4a57BTd",
      "include_colab_link": true
    },
    "kernelspec": {
      "name": "python3",
      "display_name": "Python 3"
    },
    "language_info": {
      "name": "python"
    }
  },
  "cells": [
    {
      "cell_type": "markdown",
      "metadata": {
        "id": "view-in-github",
        "colab_type": "text"
      },
      "source": [
        "<a href=\"https://colab.research.google.com/github/NafisAprilRianto/PEMROGRAMAN-DASAR/blob/main/Tugas%20pertemuan%203.ipynb\" target=\"_parent\"><img src=\"https://colab.research.google.com/assets/colab-badge.svg\" alt=\"Open In Colab\"/></a>"
      ]
    },
    {
      "cell_type": "code",
      "execution_count": 1,
      "metadata": {
        "colab": {
          "base_uri": "https://localhost:8080/"
        },
        "id": "-S7nNJ5mm6PE",
        "outputId": "f7539799-0725-4c46-899a-91ff758bde15"
      },
      "outputs": [
        {
          "output_type": "stream",
          "name": "stdout",
          "text": [
            "Harga Barang: Rp. 150000\n",
            "Subtotal: Rp150,000\n",
            "Diskon: Rp22,500\n",
            "Harga setelah diskon: Rp127,500\n",
            "PPN (11%): Rp14,025\n",
            "Total Akhir: Rp141,525\n"
          ]
        }
      ],
      "source": [
        "harga_pembelian = int(input(\"Harga Barang: Rp. \"))\n",
        "is_member = True\n",
        "\n",
        "diskon_faktor = (is_member and harga_pembelian > 100_000) * 0.15\n",
        "diskon = harga_pembelian * diskon_faktor\n",
        "\n",
        "setelah_diskon = harga_pembelian - diskon\n",
        "\n",
        "ppn = setelah_diskon * 0.11\n",
        "\n",
        "total = setelah_diskon + ppn\n",
        "\n",
        "print(f\"Subtotal: Rp{harga_pembelian:,.0f}\")\n",
        "print(f\"Diskon: Rp{diskon:,.0f}\")\n",
        "print(f\"Harga setelah diskon: Rp{setelah_diskon:,.0f}\")\n",
        "print(f\"PPN (11%): Rp{ppn:,.0f}\")\n",
        "print(f\"Total Akhir: Rp{total:,.0f}\")\n"
      ]
    },
    {
      "cell_type": "code",
      "source": [],
      "metadata": {
        "id": "7vHnNmQRnB07"
      },
      "execution_count": null,
      "outputs": []
    }
  ]
}